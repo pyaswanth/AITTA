{
  "nbformat": 4,
  "nbformat_minor": 0,
  "metadata": {
    "colab": {
      "name": "Untitled1.ipynb",
      "provenance": [],
      "collapsed_sections": [],
      "toc_visible": true,
      "authorship_tag": "ABX9TyMfnzRPfB1irMhXW20s4v2a",
      "include_colab_link": true
    },
    "kernelspec": {
      "name": "python3",
      "display_name": "Python 3"
    }
  },
  "cells": [
    {
      "cell_type": "markdown",
      "metadata": {
        "id": "view-in-github",
        "colab_type": "text"
      },
      "source": [
        "<a href=\"https://colab.research.google.com/github/pyaswanth/AITTA/blob/main/linear_regression.ipynb\" target=\"_parent\"><img src=\"https://colab.research.google.com/assets/colab-badge.svg\" alt=\"Open In Colab\"/></a>"
      ]
    },
    {
      "cell_type": "code",
      "metadata": {
        "colab": {
          "base_uri": "https://localhost:8080/",
          "height": 334
        },
        "id": "LwdjyzT6G_AC",
        "outputId": "446b2f51-b650-4dac-f942-f639b37f1d5b"
      },
      "source": [
        "import numpy as np\r\n",
        "import pandas as pd\r\n",
        "import matplotlib.pyplot as plt\r\n",
        "from sklearn.linear_model import LinearRegression\r\n",
        "\r\n",
        "df = pd.read_csv(\"ex1data1.csv\", index_col=[0])\r\n",
        "df.head()\r\n",
        "\r\n",
        "#getting data from the file and separating it as input(x) and output\r\n",
        "x = df.iloc[:,0]\r\n",
        "#read second column profit as output\r\n",
        "y = df.iloc[:,1]\r\n",
        "#m is number of training examples\r\n",
        "m = len(y)\r\n",
        "#viewing first few rows of data\r\n",
        "df.head()\r\n",
        "\r\n",
        "\r\n",
        "#Increasing the rank of both x and y for operations\r\n",
        "x = x[:,np.newaxis]\r\n",
        "y = y[:,np.newaxis]\r\n",
        "\r\n",
        "\r\n",
        "model=LinearRegression()\r\n",
        "model.fit(x,y)\r\n",
        "y_pre=model.predict(x)\r\n",
        "\r\n",
        "plt.scatter(x,y)\r\n",
        "plt.plot(x,y_pre,color='red')\r\n",
        "plt.xlabel('Population of city in 10,000\\'s')\r\n",
        "plt.ylabel('Profit in $10,000\\'s')\r\n",
        "plt.show()"
      ],
      "execution_count": 17,
      "outputs": [
        {
          "output_type": "stream",
          "text": [
            "/usr/local/lib/python3.7/dist-packages/ipykernel_launcher.py:20: FutureWarning: Support for multi-dimensional indexing (e.g. `obj[:, None]`) is deprecated and will be removed in a future version.  Convert to a numpy array before indexing instead.\n",
            "/usr/local/lib/python3.7/dist-packages/ipykernel_launcher.py:21: FutureWarning: Support for multi-dimensional indexing (e.g. `obj[:, None]`) is deprecated and will be removed in a future version.  Convert to a numpy array before indexing instead.\n"
          ],
          "name": "stderr"
        },
        {
          "output_type": "display_data",
          "data": {
            "image/png": "[encoded data removed]",
            "text/plain": [
              "<Figure size 432x288 with 1 Axes>"
            ]
          },
          "metadata": {
            "tags": [],
            "needs_background": "light"
          }
        }
      ]
    },
    {
      "cell_type": "markdown",
      "metadata": {
        "id": "oNtwPbgBH69K"
      },
      "source": [
        "# New Section"
      ]
    },
    {
      "cell_type": "code",
      "metadata": {
        "id": "o0975akxHN35"
      },
      "source": [
        ""
      ],
      "execution_count": null,
      "outputs": []
    }
  ]
}